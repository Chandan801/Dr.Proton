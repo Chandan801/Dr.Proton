{
  "nbformat": 4,
  "nbformat_minor": 0,
  "metadata": {
    "colab": {
      "name": "Untitled7.ipynb",
      "provenance": [],
      "authorship_tag": "ABX9TyM5OaNT8rfw9K+/a5jNaMMI",
      "include_colab_link": true
    },
    "kernelspec": {
      "name": "python3",
      "display_name": "Python 3"
    }
  },
  "cells": [
    {
      "cell_type": "markdown",
      "metadata": {
        "id": "view-in-github",
        "colab_type": "text"
      },
      "source": [
        "<a href=\"https://colab.research.google.com/github/Chandan801/Dr.Proton/blob/master/Data%20cleaning%20by%20deleting%20or%20ignoring%20rows%20and%20columns.ipynb\" target=\"_parent\"><img src=\"https://colab.research.google.com/assets/colab-badge.svg\" alt=\"Open In Colab\"/></a>"
      ]
    },
    {
      "cell_type": "code",
      "metadata": {
        "id": "JEUqftRYpba6"
      },
      "source": [
        "import numpy as np # linear algebra\n",
        "import pandas as pd # data processing, CSV file I/O (e.g. pd.read_csv)\n",
        "import sklearn \n",
        "from google.colab import files \n",
        "df=files.upload()"
      ],
      "execution_count": null,
      "outputs": []
    },
    {
      "cell_type": "code",
      "metadata": {
        "id": "dkpjcBv3u_TC"
      },
      "source": [
        "import io\n",
        "df_train=pd.read_csv(io.StringIO(df['train.csv'].decode('utf-8')))\n",
        "df_test=pd.read_csv(io.StringIO(df['test.csv'].decode('utf-8')))\n",
        "df_sample_submission=pd.read_csv(io.StringIO(df['sample_submission.csv'].decode('utf-8')))"
      ],
      "execution_count": 2,
      "outputs": []
    },
    {
      "cell_type": "code",
      "metadata": {
        "id": "ZUHHKcfiwsTu"
      },
      "source": [
        "df_train.head()\n",
        "import matplotlib.pyplot as plt\n",
        "import seaborn as sns"
      ],
      "execution_count": 3,
      "outputs": []
    },
    {
      "cell_type": "code",
      "metadata": {
        "id": "3mv7FCxgw6Xe"
      },
      "source": [
        "pd.set_option('display.max_columns',None)\n",
        "pd.set_option('display.max_rows',None)"
      ],
      "execution_count": 4,
      "outputs": []
    },
    {
      "cell_type": "code",
      "metadata": {
        "id": "jnFwYcM-yMQd"
      },
      "source": [
        "df_train.head()"
      ],
      "execution_count": null,
      "outputs": []
    },
    {
      "cell_type": "code",
      "metadata": {
        "id": "6osG2OVVyfYz"
      },
      "source": [
        "Null_Data=df_train.isnull().sum()/df_train.shape[0]*100"
      ],
      "execution_count": 6,
      "outputs": []
    },
    {
      "cell_type": "code",
      "metadata": {
        "id": "27Zfc1Q9HG16"
      },
      "source": [
        "Drop_data=Null_Data[Null_Data>17].keys()\n",
        "Drop_data"
      ],
      "execution_count": null,
      "outputs": []
    },
    {
      "cell_type": "code",
      "metadata": {
        "id": "s-JuMODZRo8G"
      },
      "source": [
        "New_df_train=df_train.drop(columns=Drop_data)\n",
        "New_df_train.shape"
      ],
      "execution_count": null,
      "outputs": []
    },
    {
      "cell_type": "code",
      "metadata": {
        "id": "9xp4zZkNWL07"
      },
      "source": [
        "plt.figure(figsize=(25,10))\n",
        "sns.heatmap(New_df_train.isnull())"
      ],
      "execution_count": null,
      "outputs": []
    },
    {
      "cell_type": "code",
      "metadata": {
        "id": "ib00oaBUWyiN"
      },
      "source": [
        "df_train_2=New_df_train.dropna() #it'll drop the all the rows containing N\\A.\n",
        "df_train_2.shape "
      ],
      "execution_count": null,
      "outputs": []
    },
    {
      "cell_type": "code",
      "metadata": {
        "id": "TqzI2OYEzGhv"
      },
      "source": [
        "plt.figure(figsize=(25,10))\n",
        "sns.heatmap(df_train_2.isnull())"
      ],
      "execution_count": null,
      "outputs": []
    },
    {
      "cell_type": "code",
      "metadata": {
        "id": "NuK5Sz09zcZ4"
      },
      "source": [
        "df_train_2.isnull().sum()#Now our data is clean. No missing is found in the data set"
      ],
      "execution_count": null,
      "outputs": []
    },
    {
      "cell_type": "code",
      "metadata": {
        "id": "AnTEmgtP1qbN"
      },
      "source": [
        "df_train_2.select_dtypes(include=['int64','float64']).columns"
      ],
      "execution_count": null,
      "outputs": []
    },
    {
      "cell_type": "code",
      "metadata": {
        "id": "GyTuHAUazzYv"
      },
      "source": [
        "sns.distplot(df_train['MSSubClass'])\n",
        "sns.distplot(df_train_2['MSSubClass'])\n",
        "#For single value"
      ],
      "execution_count": null,
      "outputs": []
    },
    {
      "cell_type": "code",
      "metadata": {
        "id": "a30qKedj3Qy2"
      },
      "source": [
        "#for multiple value\n",
        "num_var=['MSSubClass', 'LotArea', 'OverallQual', 'OverallCond',\n",
        "       'YearBuilt', 'YearRemodAdd', 'MasVnrArea', 'BsmtFinSF1', 'BsmtFinSF2',\n",
        "       'BsmtUnfSF', 'TotalBsmtSF', '1stFlrSF', '2ndFlrSF', 'LowQualFinSF',\n",
        "       'GrLivArea', 'BsmtFullBath', 'BsmtHalfBath', 'FullBath', 'HalfBath',\n",
        "       'BedroomAbvGr', 'KitchenAbvGr', 'TotRmsAbvGrd', 'Fireplaces',\n",
        "       'GarageYrBlt', 'GarageCars', 'GarageArea', 'WoodDeckSF', 'OpenPorchSF',\n",
        "       'EnclosedPorch', '3SsnPorch', 'ScreenPorch', 'PoolArea', 'MiscVal',\n",
        "       'MoSold', 'YrSold', 'SalePrice']"
      ],
      "execution_count": 12,
      "outputs": []
    },
    {
      "cell_type": "code",
      "metadata": {
        "id": "4TySEkGf3Qtx"
      },
      "source": [
        "plt.figure(figsize=(18,18))\n",
        "for i,var in enumerate(num_var):\n",
        "  plt.subplot(9,4,i+1)\n",
        "  sns.distplot(df_train[var],bins=25)\n",
        "  sns.distplot(df_train_2[var],bins=25)"
      ],
      "execution_count": null,
      "outputs": []
    },
    {
      "cell_type": "code",
      "metadata": {
        "id": "6xmW6rkM9uXn"
      },
      "source": [
        "n=df_train_2.select_dtypes(include=['object']).columns\n",
        "n"
      ],
      "execution_count": null,
      "outputs": []
    },
    {
      "cell_type": "code",
      "metadata": {
        "id": "dvt-SUFc-Gr5"
      },
      "source": [
        "pd.concat([df_train['MSZoning'].value_counts()/df_train.shape[0]*100,\n",
        "            df_train_2['MSZoning'].value_counts()/df_train_2.shape[0]*100],axis=1,\n",
        "           keys=['MSZoning_Org','MSZoning_clean'] )"
      ],
      "execution_count": null,
      "outputs": []
    },
    {
      "cell_type": "code",
      "metadata": {
        "id": "4R-QstcII2W_"
      },
      "source": [
        "def cat_var(var):\n",
        "  return pd.concat([df_train[var].value_counts()/df_train.shape[0]*100,\n",
        "            df_train_2[var].value_counts()/df_train_2.shape[0]*100],axis=1,\n",
        "           keys=[var+'Org', var+'clean'])\n",
        "\n",
        "for i in range (0,len(n),1):\n",
        "  print(cat_var(n[i]))  \n",
        "         "
      ],
      "execution_count": null,
      "outputs": []
    }
  ]
}